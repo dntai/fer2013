{
 "cells": [
  {
   "cell_type": "markdown",
   "metadata": {},
   "source": [
    "Import libraries"
   ]
  },
  {
   "cell_type": "code",
   "execution_count": 1,
   "metadata": {},
   "outputs": [],
   "source": [
    "from tensorflow.contrib.keras.python.keras.models import Sequential\n",
    "from tensorflow.contrib.keras.python.keras.layers import Conv2D, Dense, Flatten, MaxPooling2D, Dropout, Activation\n",
    "from tensorflow.contrib.keras.python.keras.optimizers import RMSprop, Adam\n",
    "from tensorflow.contrib.keras.python.keras.callbacks import EarlyStopping\n",
    "\n",
    "import numpy as np\n",
    "import matplotlib.pyplot as plt"
   ]
  },
  {
   "cell_type": "markdown",
   "metadata": {},
   "source": [
    "Load dataset"
   ]
  },
  {
   "cell_type": "code",
   "execution_count": 2,
   "metadata": {
    "collapsed": true
   },
   "outputs": [],
   "source": [
    "trainingset = np.loadtxt('../datasets/fer2013/fer2013_training_onehot.csv', delimiter=',')\n",
    "testingset = np.loadtxt('../datasets/fer2013/fer2013_publictest_onehot.csv', delimiter=',')"
   ]
  },
  {
   "cell_type": "markdown",
   "metadata": {},
   "source": [
    "Split data"
   ]
  },
  {
   "cell_type": "code",
   "execution_count": 3,
   "metadata": {
    "collapsed": true
   },
   "outputs": [],
   "source": [
    "n_inputs = 2304\n",
    "n_classes = 7\n",
    "img_dim = 48\n",
    "\n",
    "x_training = trainingset[:, 0:n_inputs]\n",
    "y_training = trainingset[:, n_inputs:n_inputs + n_classes]\n",
    "\n",
    "x_testing = testingset[:, 0:n_inputs]\n",
    "y_testing = testingset[:, n_inputs:n_inputs + n_classes]\n",
    "\n",
    "x_training = x_training.reshape(x_training.shape[0], 48, 48)\n",
    "x_training = np.expand_dims(x_training, axis=4)\n",
    "\n",
    "x_testing = x_testing.reshape(x_testing.shape[0], 48, 48)\n",
    "x_testing = np.expand_dims(x_testing, axis=4)"
   ]
  },
  {
   "cell_type": "code",
   "execution_count": 4,
   "metadata": {
    "collapsed": true
   },
   "outputs": [],
   "source": [
    "def get_emotion(ohv):\n",
    "    indx = np.argmax(ohv)\n",
    "    if indx == 0:\n",
    "        return 'angry'\n",
    "    elif indx == 1:\n",
    "        return 'disgust'\n",
    "    elif indx == 2:\n",
    "        return 'fear'\n",
    "    elif indx == 3:\n",
    "        return 'happy'\n",
    "    elif indx == 4:\n",
    "        return 'sad'\n",
    "    elif indx == 5:\n",
    "        return 'surprise'\n",
    "    elif indx == 6:\n",
    "        return 'neutral'"
   ]
  },
  {
   "cell_type": "code",
   "execution_count": 5,
   "metadata": {},
   "outputs": [
    {
     "name": "stdout",
     "output_type": "stream",
     "text": [
      "(28709, 48, 48, 1)\n",
      "(28709, 7)\n",
      "(3589, 48, 48, 1)\n",
      "(3589, 7)\n"
     ]
    },
    {
     "data": {
      "image/png": "[encoded data removed]",
      "text/plain": [
       "<matplotlib.figure.Figure at 0x7f37f8584790>"
      ]
     },
     "metadata": {},
     "output_type": "display_data"
    },
    {
     "name": "stdout",
     "output_type": "stream",
     "text": [
      "facial emotion: fear\n"
     ]
    }
   ],
   "source": [
    "print(x_training.shape)\n",
    "print(y_training.shape)\n",
    "\n",
    "print(x_testing.shape)\n",
    "print(y_testing.shape)\n",
    "\n",
    "sample = x_training[5, :]\n",
    "sample = sample.reshape(48, 48)\n",
    "\n",
    "plt.imshow(sample, cmap='gray')\n",
    "plt.show()\n",
    "print('facial emotion: %s' % get_emotion(y_training[5, :]))"
   ]
  },
  {
   "cell_type": "markdown",
   "metadata": {},
   "source": [
    "Define model: a model in karas is a sequence of layers!"
   ]
  },
  {
   "cell_type": "code",
   "execution_count": 6,
   "metadata": {
    "collapsed": true
   },
   "outputs": [],
   "source": [
    "model = Sequential()"
   ]
  },
  {
   "cell_type": "code",
   "execution_count": 7,
   "metadata": {
    "collapsed": true
   },
   "outputs": [],
   "source": [
    "model.add(Conv2D(64, (3, 3), activation='relu', padding='same', input_shape = (48, 48, 1)))"
   ]
  },
  {
   "cell_type": "code",
   "execution_count": 8,
   "metadata": {
    "collapsed": true
   },
   "outputs": [],
   "source": [
    "model.add(Conv2D(64, (3, 3), activation='relu'))"
   ]
  },
  {
   "cell_type": "code",
   "execution_count": 9,
   "metadata": {
    "collapsed": true
   },
   "outputs": [],
   "source": [
    "model.add(MaxPooling2D(pool_size=(2, 2)))\n",
    "model.add(Dropout(0.25))"
   ]
  },
  {
   "cell_type": "code",
   "execution_count": 10,
   "metadata": {
    "collapsed": true
   },
   "outputs": [],
   "source": [
    "model.add(Conv2D(128, (3, 3), activation='relu', padding='same'))"
   ]
  },
  {
   "cell_type": "code",
   "execution_count": 11,
   "metadata": {
    "collapsed": true
   },
   "outputs": [],
   "source": [
    "model.add(Conv2D(128, (3, 3), activation='relu'))"
   ]
  },
  {
   "cell_type": "code",
   "execution_count": 12,
   "metadata": {
    "collapsed": true
   },
   "outputs": [],
   "source": [
    "# model.add(MaxPooling2D(pool_size=(2, 2)))\n",
    "# model.add(Dropout(0.25))"
   ]
  },
  {
   "cell_type": "code",
   "execution_count": 13,
   "metadata": {
    "collapsed": true
   },
   "outputs": [],
   "source": [
    "model.add(Conv2D(256, (3, 3), activation='relu', padding='same'))"
   ]
  },
  {
   "cell_type": "code",
   "execution_count": 14,
   "metadata": {
    "collapsed": true
   },
   "outputs": [],
   "source": [
    "model.add(Conv2D(256, (3, 3), activation='relu'))"
   ]
  },
  {
   "cell_type": "code",
   "execution_count": 15,
   "metadata": {
    "collapsed": true
   },
   "outputs": [],
   "source": [
    "model.add(MaxPooling2D(pool_size=(2, 2)))\n",
    "model.add(Dropout(0.25))"
   ]
  },
  {
   "cell_type": "code",
   "execution_count": 16,
   "metadata": {},
   "outputs": [],
   "source": [
    "model.add(Flatten())\n",
    "model.add(Dense(1024, activation='relu'))\n",
    "model.add(Dropout(0.5))\n",
    "model.add(Dense(n_classes, activation='softmax'))"
   ]
  },
  {
   "cell_type": "markdown",
   "metadata": {},
   "source": [
    "Compile model"
   ]
  },
  {
   "cell_type": "code",
   "execution_count": 17,
   "metadata": {},
   "outputs": [],
   "source": [
    "opt = Adam(lr=0.0001, decay=10e-6)\n",
    "model.compile(loss='categorical_crossentropy', optimizer=opt, metrics=['accuracy'])"
   ]
  },
  {
   "cell_type": "markdown",
   "metadata": {},
   "source": [
    "Fit model"
   ]
  },
  {
   "cell_type": "code",
   "execution_count": 18,
   "metadata": {},
   "outputs": [
    {
     "name": "stdout",
     "output_type": "stream",
     "text": [
      "Train on 28709 samples, validate on 3589 samples\n",
      "Epoch 1/500\n",
      "28709/28709 [==============================] - 28s - loss: 2.4209 - acc: 0.2725 - val_loss: 1.6136 - val_acc: 0.3873\n",
      "Epoch 2/500\n",
      "28709/28709 [==============================] - 25s - loss: 1.5547 - acc: 0.4008 - val_loss: 1.4224 - val_acc: 0.4533\n",
      "Epoch 3/500\n",
      "28709/28709 [==============================] - 25s - loss: 1.4144 - acc: 0.4598 - val_loss: 1.3566 - val_acc: 0.4801\n",
      "Epoch 4/500\n",
      "28709/28709 [==============================] - 25s - loss: 1.3090 - acc: 0.5075 - val_loss: 1.2520 - val_acc: 0.5227\n",
      "Epoch 5/500\n",
      "28709/28709 [==============================] - 25s - loss: 1.2144 - acc: 0.5448 - val_loss: 1.2051 - val_acc: 0.5478\n",
      "Epoch 6/500\n",
      "28709/28709 [==============================] - 25s - loss: 1.1370 - acc: 0.5768 - val_loss: 1.1716 - val_acc: 0.5598\n",
      "Epoch 7/500\n",
      "28709/28709 [==============================] - 25s - loss: 1.0451 - acc: 0.6135 - val_loss: 1.1462 - val_acc: 0.5687\n",
      "Epoch 8/500\n",
      "28709/28709 [==============================] - 25s - loss: 0.9448 - acc: 0.6531 - val_loss: 1.1404 - val_acc: 0.5846\n",
      "Epoch 9/500\n",
      "28709/28709 [==============================] - 25s - loss: 0.8448 - acc: 0.6932 - val_loss: 1.1293 - val_acc: 0.5871\n",
      "Epoch 10/500\n",
      "28709/28709 [==============================] - 25s - loss: 0.7213 - acc: 0.7391 - val_loss: 1.1638 - val_acc: 0.5913\n",
      "Epoch 11/500\n",
      "28709/28709 [==============================] - 25s - loss: 0.6134 - acc: 0.7800 - val_loss: 1.2438 - val_acc: 0.5901\n",
      "Epoch 12/500\n",
      "28709/28709 [==============================] - 26s - loss: 0.5124 - acc: 0.8174 - val_loss: 1.3351 - val_acc: 0.5907\n",
      "Epoch 13/500\n",
      "28709/28709 [==============================] - 25s - loss: 0.4421 - acc: 0.8435 - val_loss: 1.3076 - val_acc: 0.5868\n",
      "Epoch 14/500\n",
      "28709/28709 [==============================] - 25s - loss: 0.3599 - acc: 0.8735 - val_loss: 1.3396 - val_acc: 0.5960\n",
      "Epoch 15/500\n",
      "28709/28709 [==============================] - 25s - loss: 0.3084 - acc: 0.8932 - val_loss: 1.4528 - val_acc: 0.6041\n",
      "Epoch 16/500\n",
      "28709/28709 [==============================] - 26s - loss: 0.2716 - acc: 0.9050 - val_loss: 1.4828 - val_acc: 0.6004\n",
      "Epoch 17/500\n",
      "28709/28709 [==============================] - 25s - loss: 0.2460 - acc: 0.9139 - val_loss: 1.5083 - val_acc: 0.6013\n",
      "Epoch 18/500\n",
      "28709/28709 [==============================] - 26s - loss: 0.2170 - acc: 0.9283 - val_loss: 1.5789 - val_acc: 0.6018\n",
      "Epoch 19/500\n",
      "28709/28709 [==============================] - 26s - loss: 0.1898 - acc: 0.9370 - val_loss: 1.5512 - val_acc: 0.6043\n",
      "Epoch 20/500\n",
      "28709/28709 [==============================] - 26s - loss: 0.1769 - acc: 0.9422 - val_loss: 1.6588 - val_acc: 0.5991\n",
      "Epoch 21/500\n",
      "28709/28709 [==============================] - 26s - loss: 0.1570 - acc: 0.9477 - val_loss: 1.6653 - val_acc: 0.6091\n",
      "Epoch 22/500\n",
      "28709/28709 [==============================] - 26s - loss: 0.1515 - acc: 0.9512 - val_loss: 1.6872 - val_acc: 0.6035\n",
      "Epoch 23/500\n",
      "28709/28709 [==============================] - 25s - loss: 0.1400 - acc: 0.9561 - val_loss: 1.8023 - val_acc: 0.6002\n",
      "Epoch 24/500\n",
      "28709/28709 [==============================] - 25s - loss: 0.1315 - acc: 0.9589 - val_loss: 1.7533 - val_acc: 0.5988\n",
      "Epoch 25/500\n",
      "28709/28709 [==============================] - 25s - loss: 0.1220 - acc: 0.9616 - val_loss: 1.7459 - val_acc: 0.6013\n",
      "Epoch 26/500\n",
      "28709/28709 [==============================] - 25s - loss: 0.1161 - acc: 0.9634 - val_loss: 1.8502 - val_acc: 0.6043\n",
      "Epoch 27/500\n",
      "28709/28709 [==============================] - 25s - loss: 0.1066 - acc: 0.9653 - val_loss: 1.8515 - val_acc: 0.6085\n",
      "Epoch 28/500\n",
      "28709/28709 [==============================] - 25s - loss: 0.1043 - acc: 0.9678 - val_loss: 1.8069 - val_acc: 0.6013\n",
      "Epoch 29/500\n",
      "28709/28709 [==============================] - 25s - loss: 0.0997 - acc: 0.9692 - val_loss: 1.7899 - val_acc: 0.6074\n",
      "Epoch 30/500\n",
      "28709/28709 [==============================] - 25s - loss: 0.0931 - acc: 0.9731 - val_loss: 1.9318 - val_acc: 0.6055\n"
     ]
    },
    {
     "data": {
      "text/plain": [
       "<tensorflow.contrib.keras.python.keras.callbacks.History at 0x7f37d104f6d0>"
      ]
     },
     "execution_count": 18,
     "metadata": {},
     "output_type": "execute_result"
    }
   ],
   "source": [
    "batch_size = 128\n",
    "n_epoches = 500\n",
    "early_stopping = EarlyStopping(monitor='val_loss', patience=20)\n",
    "\n",
    "model.fit(x_training, y_training, batch_size=batch_size, epochs=n_epoches,\n",
    "          validation_data=(x_testing, y_testing), shuffle=True,\n",
    "          callbacks=[early_stopping])"
   ]
  },
  {
   "cell_type": "markdown",
   "metadata": {},
   "source": [
    "Evaluate model"
   ]
  },
  {
   "cell_type": "code",
   "execution_count": 19,
   "metadata": {},
   "outputs": [
    {
     "name": "stdout",
     "output_type": "stream",
     "text": [
      "3552/3589 [============================>.] - ETA: 0sacc: 60.55%\n"
     ]
    }
   ],
   "source": [
    "scores = model.evaluate(x_testing, y_testing)\n",
    "print('%s: %.2f%%'% (model.metrics_names[1], scores[1]*100))"
   ]
  }
 ],
 "metadata": {
  "anaconda-cloud": {},
  "kernelspec": {
   "display_name": "Python 2",
   "language": "python",
   "name": "python2"
  },
  "language_info": {
   "codemirror_mode": {
    "name": "ipython",
    "version": 2
   },
   "file_extension": ".py",
   "mimetype": "text/x-python",
   "name": "python",
   "nbconvert_exporter": "python",
   "pygments_lexer": "ipython2",
   "version": "2.7.13"
  }
 },
 "nbformat": 4,
 "nbformat_minor": 1
}
