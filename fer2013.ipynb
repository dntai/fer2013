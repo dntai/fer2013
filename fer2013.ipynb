{
 "cells": [
  {
   "cell_type": "markdown",
   "metadata": {},
   "source": [
    "# Import libraries"
   ]
  },
  {
   "cell_type": "code",
   "execution_count": 1,
   "metadata": {
    "collapsed": true
   },
   "outputs": [],
   "source": [
    "from tensorflow.contrib.keras.python.keras.models import Sequential\n",
    "from tensorflow.contrib.keras.python.keras.layers import Conv2D, Dense, Flatten, MaxPooling2D, Dropout\n",
    "from tensorflow.contrib.keras.python.keras.optimizers import Adam\n",
    "from tensorflow.contrib.keras.python.keras.callbacks import EarlyStopping\n",
    "from tensorflow.contrib.keras.python.keras.regularizers import l1, l2\n",
    "\n",
    "import numpy as np\n",
    "import matplotlib.pyplot as plt"
   ]
  },
  {
   "cell_type": "markdown",
   "metadata": {},
   "source": [
    "# Load dataset"
   ]
  },
  {
   "cell_type": "code",
   "execution_count": 2,
   "metadata": {
    "collapsed": true
   },
   "outputs": [],
   "source": [
    "trainingset = np.loadtxt('fer2013_training_onehot.csv', delimiter=',')\n",
    "testingset = np.loadtxt('fer2013_publictest_onehot.csv', delimiter=',')"
   ]
  },
  {
   "cell_type": "markdown",
   "metadata": {},
   "source": [
    "# Split data"
   ]
  },
  {
   "cell_type": "code",
   "execution_count": 3,
   "metadata": {
    "collapsed": true
   },
   "outputs": [],
   "source": [
    "n_inputs = 2304\n",
    "n_classes = 7\n",
    "img_dim = 48\n",
    "\n",
    "x_training = trainingset[:, 0:n_inputs]\n",
    "y_training = trainingset[:, n_inputs:n_inputs + n_classes]\n",
    "\n",
    "x_testing = testingset[:, 0:n_inputs]\n",
    "y_testing = testingset[:, n_inputs:n_inputs + n_classes]\n",
    "\n",
    "x_training = x_training.reshape(x_training.shape[0], 48, 48)\n",
    "x_training = np.expand_dims(x_training, axis=4)\n",
    "\n",
    "x_testing = x_testing.reshape(x_testing.shape[0], 48, 48)\n",
    "x_testing = np.expand_dims(x_testing, axis=4)"
   ]
  },
  {
   "cell_type": "code",
   "execution_count": 98,
   "metadata": {
    "collapsed": true
   },
   "outputs": [],
   "source": [
    "def get_emotion(ohv):\n",
    "    if ohv.shape[0] == 1:\n",
    "        indx = ohv[0]\n",
    "    else:\n",
    "        indx = np.argmax(ohv)\n",
    "        \n",
    "    if indx == 0:\n",
    "        return 'angry'\n",
    "    elif indx == 1:\n",
    "        return 'disgust'\n",
    "    elif indx == 2:\n",
    "        return 'fear'\n",
    "    elif indx == 3:\n",
    "        return 'happy'\n",
    "    elif indx == 4:\n",
    "        return 'sad'\n",
    "    elif indx == 5:\n",
    "        return 'surprise'\n",
    "    elif indx == 6:\n",
    "        return 'neutral'"
   ]
  },
  {
   "cell_type": "code",
   "execution_count": 65,
   "metadata": {},
   "outputs": [
    {
     "name": "stdout",
     "output_type": "stream",
     "text": [
      "(28709, 48, 48, 1)\n",
      "(28709, 7)\n",
      "(3589, 48, 48, 1)\n",
      "(3589, 7)\n"
     ]
    },
    {
     "data": {
      "image/png": "[encoded data removed]",
      "text/plain": [
       "<matplotlib.figure.Figure at 0x7f7b7d3997d0>"
      ]
     },
     "metadata": {},
     "output_type": "display_data"
    },
    {
     "name": "stdout",
     "output_type": "stream",
     "text": [
      "hey 2\n",
      "facial emotion: fear\n"
     ]
    }
   ],
   "source": [
    "print(x_training.shape)\n",
    "print(y_training.shape)\n",
    "\n",
    "print(x_testing.shape)\n",
    "print(y_testing.shape)\n",
    "\n",
    "sample = x_training[5, :]\n",
    "sample = sample.reshape(48, 48)\n",
    "\n",
    "plt.imshow(sample, cmap='gray')\n",
    "plt.show()\n",
    "print('facial emotion: %s' % get_emotion(y_training[5, :]))"
   ]
  },
  {
   "cell_type": "markdown",
   "metadata": {},
   "source": [
    "# Define model: a model in karas is a sequence of layers!"
   ]
  },
  {
   "cell_type": "code",
   "execution_count": 10,
   "metadata": {
    "collapsed": true
   },
   "outputs": [],
   "source": [
    "model = Sequential()"
   ]
  },
  {
   "cell_type": "code",
   "execution_count": 11,
   "metadata": {
    "collapsed": true
   },
   "outputs": [],
   "source": [
    "model.add(Conv2D(64, (3, 3), activation='relu', padding='same', input_shape = (48, 48, 1)))"
   ]
  },
  {
   "cell_type": "code",
   "execution_count": 12,
   "metadata": {
    "collapsed": true
   },
   "outputs": [],
   "source": [
    "model.add(Conv2D(64, (3, 3), activation='relu'))"
   ]
  },
  {
   "cell_type": "code",
   "execution_count": 13,
   "metadata": {
    "collapsed": true
   },
   "outputs": [],
   "source": [
    "model.add(MaxPooling2D(pool_size=(2, 2)))\n",
    "model.add(Dropout(0.25))"
   ]
  },
  {
   "cell_type": "code",
   "execution_count": 14,
   "metadata": {
    "collapsed": true
   },
   "outputs": [],
   "source": [
    "model.add(Conv2D(128, (3, 3), activation='relu', padding='same'))"
   ]
  },
  {
   "cell_type": "code",
   "execution_count": 15,
   "metadata": {
    "collapsed": true
   },
   "outputs": [],
   "source": [
    "model.add(Conv2D(128, (3, 3), activation='relu'))"
   ]
  },
  {
   "cell_type": "code",
   "execution_count": 17,
   "metadata": {
    "collapsed": true
   },
   "outputs": [],
   "source": [
    "model.add(Conv2D(256, (3, 3), activation='relu', padding='same'))"
   ]
  },
  {
   "cell_type": "code",
   "execution_count": 18,
   "metadata": {
    "collapsed": true
   },
   "outputs": [],
   "source": [
    "model.add(Conv2D(256, (3, 3), activation='relu'))"
   ]
  },
  {
   "cell_type": "code",
   "execution_count": 19,
   "metadata": {
    "collapsed": true
   },
   "outputs": [],
   "source": [
    "model.add(MaxPooling2D(pool_size=(2, 2)))\n",
    "model.add(Dropout(0.25))"
   ]
  },
  {
   "cell_type": "code",
   "execution_count": 20,
   "metadata": {
    "collapsed": true
   },
   "outputs": [],
   "source": [
    "model.add(Flatten())\n",
    "model.add(Dense(1024, activation='relu', kernel_regularizer=l2(0.001)))\n",
    "model.add(Dropout(0.5))\n",
    "model.add(Dense(n_classes, activation='softmax'))"
   ]
  },
  {
   "cell_type": "markdown",
   "metadata": {},
   "source": [
    "# Compile model"
   ]
  },
  {
   "cell_type": "code",
   "execution_count": 21,
   "metadata": {
    "collapsed": true
   },
   "outputs": [],
   "source": [
    "opt = Adam(lr=0.0001, decay=10e-6)\n",
    "model.compile(loss='categorical_crossentropy', optimizer=opt, metrics=['accuracy'])"
   ]
  },
  {
   "cell_type": "markdown",
   "metadata": {},
   "source": [
    "# Fit model"
   ]
  },
  {
   "cell_type": "code",
   "execution_count": 63,
   "metadata": {},
   "outputs": [
    {
     "name": "stdout",
     "output_type": "stream",
     "text": [
      "Train on 28709 samples, validate on 3589 samples\n",
      "Epoch 1/500\n",
      "28709/28709 [==============================] - 28s - loss: 4.6490 - acc: 0.2538 - val_loss: 3.1333 - val_acc: 0.3260\n",
      "Epoch 2/500\n",
      "28709/28709 [==============================] - 27s - loss: 2.8764 - acc: 0.3723 - val_loss: 2.6314 - val_acc: 0.4302\n",
      "Epoch 3/500\n",
      "28709/28709 [==============================] - 27s - loss: 2.4925 - acc: 0.4468 - val_loss: 2.3041 - val_acc: 0.4940\n",
      "Epoch 4/500\n",
      "28709/28709 [==============================] - 28s - loss: 2.2192 - acc: 0.4982 - val_loss: 2.1024 - val_acc: 0.5107\n",
      "Epoch 5/500\n",
      "28709/28709 [==============================] - 27s - loss: 2.0095 - acc: 0.5367 - val_loss: 1.9508 - val_acc: 0.5316\n",
      "Epoch 6/500\n",
      "28709/28709 [==============================] - 28s - loss: 1.8300 - acc: 0.5715 - val_loss: 1.8335 - val_acc: 0.5419\n",
      "Epoch 7/500\n",
      "28709/28709 [==============================] - 28s - loss: 1.6758 - acc: 0.6046 - val_loss: 1.7223 - val_acc: 0.5704\n",
      "Epoch 8/500\n",
      "28709/28709 [==============================] - 28s - loss: 1.5316 - acc: 0.6427 - val_loss: 1.7092 - val_acc: 0.5729\n",
      "Epoch 9/500\n",
      "28709/28709 [==============================] - 28s - loss: 1.3973 - acc: 0.6777 - val_loss: 1.6250 - val_acc: 0.5996\n",
      "Epoch 10/500\n",
      "28709/28709 [==============================] - 28s - loss: 1.2571 - acc: 0.7258 - val_loss: 1.6346 - val_acc: 0.5999\n",
      "Epoch 11/500\n",
      "28709/28709 [==============================] - 28s - loss: 1.1295 - acc: 0.7693 - val_loss: 1.6904 - val_acc: 0.5999\n",
      "Epoch 12/500\n",
      "28709/28709 [==============================] - 28s - loss: 1.0152 - acc: 0.8077 - val_loss: 1.7090 - val_acc: 0.6024\n",
      "Epoch 13/500\n",
      "28709/28709 [==============================] - 28s - loss: 0.9213 - acc: 0.8426 - val_loss: 1.7540 - val_acc: 0.6105\n",
      "Epoch 14/500\n",
      "28709/28709 [==============================] - 28s - loss: 0.8464 - acc: 0.8680 - val_loss: 1.7743 - val_acc: 0.6105\n",
      "Epoch 15/500\n",
      "28709/28709 [==============================] - 28s - loss: 0.7958 - acc: 0.8844 - val_loss: 1.8426 - val_acc: 0.6055\n",
      "Epoch 16/500\n",
      "28709/28709 [==============================] - 28s - loss: 0.7427 - acc: 0.9034 - val_loss: 1.9352 - val_acc: 0.6088\n",
      "Epoch 17/500\n",
      "28709/28709 [==============================] - 28s - loss: 0.7068 - acc: 0.9151 - val_loss: 1.9161 - val_acc: 0.6071\n",
      "Epoch 18/500\n",
      "28709/28709 [==============================] - 28s - loss: 0.6798 - acc: 0.9223 - val_loss: 1.9799 - val_acc: 0.6049\n",
      "Epoch 19/500\n",
      "28709/28709 [==============================] - 28s - loss: 0.6547 - acc: 0.9315 - val_loss: 1.9989 - val_acc: 0.6007\n",
      "Epoch 20/500\n",
      "28709/28709 [==============================] - 28s - loss: 0.6338 - acc: 0.9372 - val_loss: 2.0050 - val_acc: 0.6172\n",
      "Epoch 21/500\n",
      "28709/28709 [==============================] - 28s - loss: 0.6126 - acc: 0.9441 - val_loss: 2.0173 - val_acc: 0.6105\n",
      "Epoch 22/500\n",
      "28709/28709 [==============================] - 28s - loss: 0.5946 - acc: 0.9490 - val_loss: 2.0942 - val_acc: 0.6002\n",
      "Epoch 23/500\n",
      "28709/28709 [==============================] - 28s - loss: 0.5904 - acc: 0.9505 - val_loss: 2.0514 - val_acc: 0.6069\n",
      "Epoch 24/500\n",
      "28709/28709 [==============================] - 28s - loss: 0.5767 - acc: 0.9528 - val_loss: 2.0547 - val_acc: 0.6035\n",
      "Epoch 25/500\n",
      "28709/28709 [==============================] - 27s - loss: 0.5678 - acc: 0.9564 - val_loss: 2.1044 - val_acc: 0.6152\n",
      "Epoch 26/500\n",
      "28709/28709 [==============================] - 28s - loss: 0.5614 - acc: 0.9572 - val_loss: 2.0458 - val_acc: 0.6094\n",
      "Epoch 27/500\n",
      "28709/28709 [==============================] - 28s - loss: 0.5551 - acc: 0.9581 - val_loss: 2.1059 - val_acc: 0.6124\n",
      "Epoch 28/500\n",
      "28709/28709 [==============================] - 28s - loss: 0.5445 - acc: 0.9606 - val_loss: 2.0921 - val_acc: 0.6094\n",
      "Epoch 29/500\n",
      "28709/28709 [==============================] - 28s - loss: 0.5422 - acc: 0.9600 - val_loss: 2.0902 - val_acc: 0.6121\n",
      "Epoch 30/500\n",
      "28709/28709 [==============================] - 28s - loss: 0.5375 - acc: 0.9621 - val_loss: 2.1050 - val_acc: 0.6163\n"
     ]
    },
    {
     "data": {
      "text/plain": [
       "<tensorflow.contrib.keras.python.keras.callbacks.History at 0x7f08cf8eedd0>"
      ]
     },
     "execution_count": 63,
     "metadata": {},
     "output_type": "execute_result"
    }
   ],
   "source": [
    "batch_size = 128\n",
    "n_epoches = 500\n",
    "early_stopping = EarlyStopping(monitor='val_loss', patience=20)\n",
    "\n",
    "model.fit(x_training, y_training, batch_size=batch_size, epochs=n_epoches,\n",
    "          validation_data=(x_testing, y_testing), shuffle=True,\n",
    "          callbacks=[early_stopping])"
   ]
  },
  {
   "cell_type": "markdown",
   "metadata": {},
   "source": [
    "# Evaluate model"
   ]
  },
  {
   "cell_type": "code",
   "execution_count": 64,
   "metadata": {},
   "outputs": [
    {
     "name": "stdout",
     "output_type": "stream",
     "text": [
      "3488/3589 [============================>.] - ETA: 0sacc: 61.63%\n"
     ]
    }
   ],
   "source": [
    "scores = model.evaluate(x_testing, y_testing)\n",
    "print('%s: %.2f%%'% (model.metrics_names[1], scores[1]*100))"
   ]
  },
  {
   "cell_type": "code",
   "execution_count": null,
   "metadata": {},
   "outputs": [],
   "source": [
    "model.save('fer2013.h5')\n",
    "model.save_weights('fer2013_weights.h5')"
   ]
  },
  {
   "cell_type": "markdown",
   "metadata": {},
   "source": [
    "# Load trained model"
   ]
  },
  {
   "cell_type": "code",
   "execution_count": 27,
   "metadata": {},
   "outputs": [],
   "source": [
    "model.load_weights('fer2013_weights.h5')"
   ]
  },
  {
   "cell_type": "code",
   "execution_count": 28,
   "metadata": {},
   "outputs": [
    {
     "name": "stdout",
     "output_type": "stream",
     "text": [
      "3488/3589 [============================>.] - ETA: 0sacc: 61.63%\n"
     ]
    }
   ],
   "source": [
    "scores = model.evaluate(x_testing, y_testing)\n",
    "print('%s: %.2f%%'% (model.metrics_names[1], scores[1]*100))"
   ]
  },
  {
   "cell_type": "markdown",
   "metadata": {},
   "source": [
    "***\n",
    "# Test trained model"
   ]
  },
  {
   "cell_type": "code",
   "execution_count": 122,
   "metadata": {},
   "outputs": [
    {
     "name": "stdout",
     "output_type": "stream",
     "text": [
      "1/1 [==============================] - 0s\n"
     ]
    },
    {
     "data": {
      "image/png": "[encoded data removed]",
      "text/plain": [
       "<matplotlib.figure.Figure at 0x7f7b8008fb50>"
      ]
     },
     "metadata": {},
     "output_type": "display_data"
    },
    {
     "name": "stdout",
     "output_type": "stream",
     "text": [
      "> true emotion: fear\n",
      "> predicted emotion: fear\n"
     ]
    }
   ],
   "source": [
    "img_indx = np.uint32(np.random.rand()*(testingset.shape[0] - 1))\n",
    "sample = x_training[img_indx, :]\n",
    "sample = sample.reshape(48, 48)\n",
    "\n",
    "pred_cls = model.predict_classes(sample.reshape(1, 48, 48, 1))\n",
    "\n",
    "plt.imshow(sample, cmap='gray')\n",
    "plt.show()\n",
    "print('> true emotion: %s\\n> predicted emotion: %s' % (get_emotion(y_training[5, :]), get_emotion(pred_cls)))"
   ]
  }
 ],
 "metadata": {
  "anaconda-cloud": {},
  "kernelspec": {
   "display_name": "Python 2",
   "language": "python",
   "name": "python2"
  },
  "language_info": {
   "codemirror_mode": {
    "name": "ipython",
    "version": 2
   },
   "file_extension": ".py",
   "mimetype": "text/x-python",
   "name": "python",
   "nbconvert_exporter": "python",
   "pygments_lexer": "ipython2",
   "version": "2.7.13"
  }
 },
 "nbformat": 4,
 "nbformat_minor": 1
}
