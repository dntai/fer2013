{
 "cells": [
  {
   "cell_type": "markdown",
   "metadata": {},
   "source": [
    "# Import libraries"
   ]
  },
  {
   "cell_type": "code",
   "execution_count": 1,
   "metadata": {
    "collapsed": true
   },
   "outputs": [],
   "source": [
    "from tensorflow.contrib.keras.python.keras.models import Sequential\n",
    "from tensorflow.contrib.keras.python.keras.layers import Conv2D, Dense, Flatten, MaxPooling2D, Dropout\n",
    "from tensorflow.contrib.keras.python.keras.optimizers import Adam\n",
    "from tensorflow.contrib.keras.python.keras.callbacks import EarlyStopping\n",
    "from tensorflow.contrib.keras.python.keras.regularizers import l1, l2\n",
    "\n",
    "import numpy as np\n",
    "import matplotlib.pyplot as plt"
   ]
  },
  {
   "cell_type": "markdown",
   "metadata": {},
   "source": [
    "# Load dataset"
   ]
  },
  {
   "cell_type": "code",
   "execution_count": 3,
   "metadata": {},
   "outputs": [
    {
     "data": {
      "text/plain": [
       "array([[  70.,   80.,   82., ...,    0.,    0.,    0.],\n",
       "       [ 151.,  150.,  147., ...,    0.,    0.,    0.],\n",
       "       [ 231.,  212.,  156., ...,    0.,    0.,    0.],\n",
       "       ..., \n",
       "       [  74.,   81.,   87., ...,    1.,    0.,    0.],\n",
       "       [ 222.,  227.,  203., ...,    0.,    0.,    0.],\n",
       "       [ 195.,  199.,  205., ...,    1.,    0.,    0.]])"
      ]
     },
     "execution_count": 3,
     "metadata": {},
     "output_type": "execute_result"
    }
   ],
   "source": [
    "trainingset = np.loadtxt('fer2013_training_onehot.csv', delimiter=',')\n",
    "testingset = np.loadtxt('fer2013_publictest_onehot.csv', delimiter=',')\n",
    "\n",
    "trainingset"
   ]
  },
  {
   "cell_type": "markdown",
   "metadata": {},
   "source": [
    "# Split data"
   ]
  },
  {
   "cell_type": "code",
   "execution_count": 4,
   "metadata": {
    "collapsed": true
   },
   "outputs": [],
   "source": [
    "n_inputs = 2304\n",
    "n_classes = 7\n",
    "img_dim = 48\n",
    "\n",
    "x_training = trainingset[:, 0:n_inputs]\n",
    "y_training = trainingset[:, n_inputs:n_inputs + n_classes]\n",
    "\n",
    "x_testing = testingset[:, 0:n_inputs]\n",
    "y_testing = testingset[:, n_inputs:n_inputs + n_classes]\n",
    "\n",
    "x_training = x_training.reshape(x_training.shape[0], 48, 48)\n",
    "x_training = np.expand_dims(x_training, axis=4)\n",
    "\n",
    "x_testing = x_testing.reshape(x_testing.shape[0], 48, 48)\n",
    "x_testing = np.expand_dims(x_testing, axis=4)"
   ]
  },
  {
   "cell_type": "code",
   "execution_count": 5,
   "metadata": {
    "collapsed": true
   },
   "outputs": [],
   "source": [
    "def get_emotion(ohv):\n",
    "    if ohv.shape[0] == 1:\n",
    "        indx = ohv[0]\n",
    "    else:\n",
    "        indx = np.argmax(ohv)\n",
    "        \n",
    "    if indx == 0:\n",
    "        return 'angry'\n",
    "    elif indx == 1:\n",
    "        return 'disgust'\n",
    "    elif indx == 2:\n",
    "        return 'fear'\n",
    "    elif indx == 3:\n",
    "        return 'happy'\n",
    "    elif indx == 4:\n",
    "        return 'sad'\n",
    "    elif indx == 5:\n",
    "        return 'surprise'\n",
    "    elif indx == 6:\n",
    "        return 'neutral'"
   ]
  },
  {
   "cell_type": "code",
   "execution_count": 6,
   "metadata": {},
   "outputs": [
    {
     "name": "stdout",
     "output_type": "stream",
     "text": [
      "(28709, 48, 48, 1)\n",
      "(28709, 7)\n",
      "(3589, 48, 48, 1)\n",
      "(3589, 7)\n"
     ]
    },
    {
     "data": {
      "image/png": "[encoded data removed]",
      "text/plain": [
       "<matplotlib.figure.Figure at 0x7fdf18ecd550>"
      ]
     },
     "metadata": {},
     "output_type": "display_data"
    },
    {
     "name": "stdout",
     "output_type": "stream",
     "text": [
      "facial emotion: fear\n"
     ]
    }
   ],
   "source": [
    "print(x_training.shape)\n",
    "print(y_training.shape)\n",
    "\n",
    "print(x_testing.shape)\n",
    "print(y_testing.shape)\n",
    "\n",
    "sample = x_training[5, :]\n",
    "sample = sample.reshape(48, 48)\n",
    "\n",
    "plt.imshow(sample, cmap='gray')\n",
    "plt.show()\n",
    "print('facial emotion: %s' % get_emotion(y_training[5, :]))"
   ]
  },
  {
   "cell_type": "markdown",
   "metadata": {},
   "source": [
    "# Define model: a model in karas is a sequence of layers!"
   ]
  },
  {
   "cell_type": "code",
   "execution_count": 7,
   "metadata": {
    "collapsed": true
   },
   "outputs": [],
   "source": [
    "model = Sequential()"
   ]
  },
  {
   "cell_type": "code",
   "execution_count": 8,
   "metadata": {
    "collapsed": true
   },
   "outputs": [],
   "source": [
    "model.add(Conv2D(64, (3, 3), activation='relu', padding='same', input_shape = (48, 48, 1)))"
   ]
  },
  {
   "cell_type": "code",
   "execution_count": 9,
   "metadata": {
    "collapsed": true
   },
   "outputs": [],
   "source": [
    "model.add(Conv2D(64, (3, 3), activation='relu'))"
   ]
  },
  {
   "cell_type": "code",
   "execution_count": 10,
   "metadata": {
    "collapsed": true
   },
   "outputs": [],
   "source": [
    "model.add(MaxPooling2D(pool_size=(2, 2)))\n",
    "model.add(Dropout(0.25))"
   ]
  },
  {
   "cell_type": "code",
   "execution_count": 11,
   "metadata": {
    "collapsed": true
   },
   "outputs": [],
   "source": [
    "model.add(Conv2D(128, (3, 3), activation='relu', padding='same'))"
   ]
  },
  {
   "cell_type": "code",
   "execution_count": 12,
   "metadata": {
    "collapsed": true
   },
   "outputs": [],
   "source": [
    "model.add(Conv2D(128, (3, 3), activation='relu'))"
   ]
  },
  {
   "cell_type": "code",
   "execution_count": 13,
   "metadata": {
    "collapsed": true
   },
   "outputs": [],
   "source": [
    "model.add(Conv2D(256, (3, 3), activation='relu', padding='same'))"
   ]
  },
  {
   "cell_type": "code",
   "execution_count": 14,
   "metadata": {
    "collapsed": true
   },
   "outputs": [],
   "source": [
    "model.add(Conv2D(256, (3, 3), activation='relu'))"
   ]
  },
  {
   "cell_type": "code",
   "execution_count": 15,
   "metadata": {
    "collapsed": true
   },
   "outputs": [],
   "source": [
    "model.add(MaxPooling2D(pool_size=(2, 2)))\n",
    "model.add(Dropout(0.25))"
   ]
  },
  {
   "cell_type": "code",
   "execution_count": 16,
   "metadata": {
    "collapsed": true
   },
   "outputs": [],
   "source": [
    "model.add(Flatten())\n",
    "model.add(Dense(1024, activation='relu', kernel_regularizer=l2(0.001)))\n",
    "model.add(Dropout(0.5))\n",
    "model.add(Dense(n_classes, activation='softmax'))"
   ]
  },
  {
   "cell_type": "markdown",
   "metadata": {},
   "source": [
    "# Compile model"
   ]
  },
  {
   "cell_type": "code",
   "execution_count": 17,
   "metadata": {
    "collapsed": true
   },
   "outputs": [],
   "source": [
    "opt = Adam(lr=0.0001, decay=10e-6)\n",
    "model.compile(loss='categorical_crossentropy', optimizer=opt, metrics=['accuracy'])"
   ]
  },
  {
   "cell_type": "markdown",
   "metadata": {},
   "source": [
    "# Fit model"
   ]
  },
  {
   "cell_type": "code",
   "execution_count": 18,
   "metadata": {},
   "outputs": [
    {
     "name": "stdout",
     "output_type": "stream",
     "text": [
      "Train on 28709 samples, validate on 3589 samples\n",
      "Epoch 1/500\n",
      "28709/28709 [==============================] - 34s - loss: 4.0002 - acc: 0.2622 - val_loss: 3.2422 - val_acc: 0.3789\n",
      "Epoch 2/500\n",
      "28709/28709 [==============================] - 31s - loss: 3.0999 - acc: 0.3928 - val_loss: 2.8896 - val_acc: 0.4341\n",
      "Epoch 3/500\n",
      "28709/28709 [==============================] - 30s - loss: 2.7931 - acc: 0.4452 - val_loss: 2.6350 - val_acc: 0.4792\n",
      "Epoch 4/500\n",
      "28709/28709 [==============================] - 31s - loss: 2.5240 - acc: 0.4982 - val_loss: 2.4196 - val_acc: 0.5130\n",
      "Epoch 5/500\n",
      "28709/28709 [==============================] - 30s - loss: 2.3139 - acc: 0.5376 - val_loss: 2.2493 - val_acc: 0.5453\n",
      "Epoch 6/500\n",
      "28709/28709 [==============================] - 29s - loss: 2.1313 - acc: 0.5739 - val_loss: 2.1293 - val_acc: 0.5564\n",
      "Epoch 7/500\n",
      "28709/28709 [==============================] - 28s - loss: 1.9613 - acc: 0.6081 - val_loss: 2.0383 - val_acc: 0.5659\n",
      "Epoch 8/500\n",
      "28709/28709 [==============================] - 27s - loss: 1.7938 - acc: 0.6522 - val_loss: 2.0002 - val_acc: 0.5790\n",
      "Epoch 9/500\n",
      "28709/28709 [==============================] - 27s - loss: 1.6362 - acc: 0.6976 - val_loss: 1.9654 - val_acc: 0.5871\n",
      "Epoch 10/500\n",
      "28709/28709 [==============================] - 28s - loss: 1.4798 - acc: 0.7485 - val_loss: 1.9283 - val_acc: 0.5896\n",
      "Epoch 11/500\n",
      "28709/28709 [==============================] - 27s - loss: 1.3354 - acc: 0.7914 - val_loss: 1.9740 - val_acc: 0.5946\n",
      "Epoch 12/500\n",
      "28709/28709 [==============================] - 28s - loss: 1.2167 - acc: 0.8283 - val_loss: 2.0226 - val_acc: 0.6021\n",
      "Epoch 13/500\n",
      "28709/28709 [==============================] - 28s - loss: 1.1168 - acc: 0.8615 - val_loss: 1.9903 - val_acc: 0.6018\n",
      "Epoch 14/500\n",
      "28709/28709 [==============================] - 29s - loss: 1.0323 - acc: 0.8851 - val_loss: 2.1040 - val_acc: 0.5938\n",
      "Epoch 15/500\n",
      "28709/28709 [==============================] - 29s - loss: 0.9737 - acc: 0.9033 - val_loss: 2.2048 - val_acc: 0.5991\n",
      "Epoch 16/500\n",
      "28709/28709 [==============================] - 29s - loss: 0.9132 - acc: 0.9201 - val_loss: 2.1512 - val_acc: 0.6116\n",
      "Epoch 17/500\n",
      "28709/28709 [==============================] - 29s - loss: 0.8728 - acc: 0.9286 - val_loss: 2.1957 - val_acc: 0.6077\n",
      "Epoch 18/500\n",
      "28709/28709 [==============================] - 28s - loss: 0.8366 - acc: 0.9343 - val_loss: 2.1993 - val_acc: 0.6116\n",
      "Epoch 19/500\n",
      "28709/28709 [==============================] - 29s - loss: 0.8099 - acc: 0.9409 - val_loss: 2.2195 - val_acc: 0.6049\n",
      "Epoch 20/500\n",
      "28709/28709 [==============================] - 29s - loss: 0.7775 - acc: 0.9484 - val_loss: 2.2072 - val_acc: 0.6096\n",
      "Epoch 21/500\n",
      "28709/28709 [==============================] - 28s - loss: 0.7651 - acc: 0.9485 - val_loss: 2.2587 - val_acc: 0.6105\n",
      "Epoch 22/500\n",
      "28709/28709 [==============================] - 29s - loss: 0.7287 - acc: 0.9557 - val_loss: 2.2873 - val_acc: 0.6110\n",
      "Epoch 23/500\n",
      "28709/28709 [==============================] - 29s - loss: 0.7209 - acc: 0.9564 - val_loss: 2.2340 - val_acc: 0.6096\n",
      "Epoch 24/500\n",
      "28709/28709 [==============================] - 29s - loss: 0.7068 - acc: 0.9567 - val_loss: 2.2220 - val_acc: 0.6141\n",
      "Epoch 25/500\n",
      "28709/28709 [==============================] - 29s - loss: 0.6886 - acc: 0.9596 - val_loss: 2.2738 - val_acc: 0.6121\n",
      "Epoch 26/500\n",
      "28709/28709 [==============================] - 29s - loss: 0.6773 - acc: 0.9610 - val_loss: 2.1716 - val_acc: 0.6027\n",
      "Epoch 27/500\n",
      "28709/28709 [==============================] - 28s - loss: 0.6653 - acc: 0.9614 - val_loss: 2.2354 - val_acc: 0.6166\n",
      "Epoch 28/500\n",
      "28709/28709 [==============================] - 29s - loss: 0.6534 - acc: 0.9643 - val_loss: 2.2149 - val_acc: 0.6108\n",
      "Epoch 29/500\n",
      "28709/28709 [==============================] - 29s - loss: 0.6379 - acc: 0.9639 - val_loss: 2.2445 - val_acc: 0.6052\n",
      "Epoch 30/500\n",
      "28709/28709 [==============================] - 28s - loss: 0.6360 - acc: 0.9630 - val_loss: 2.1700 - val_acc: 0.6077\n",
      "Epoch 31/500\n",
      "28709/28709 [==============================] - 27s - loss: 0.6262 - acc: 0.9667 - val_loss: 2.2241 - val_acc: 0.6074\n"
     ]
    },
    {
     "data": {
      "text/plain": [
       "<tensorflow.contrib.keras.python.keras.callbacks.History at 0x7fdf11342f90>"
      ]
     },
     "execution_count": 18,
     "metadata": {},
     "output_type": "execute_result"
    }
   ],
   "source": [
    "batch_size = 128\n",
    "n_epoches = 500\n",
    "early_stopping = EarlyStopping(monitor='val_loss', patience=20)\n",
    "\n",
    "model.fit(x_training, y_training, batch_size=batch_size, epochs=n_epoches,\n",
    "          validation_data=(x_testing, y_testing), shuffle=True,\n",
    "          callbacks=[early_stopping])"
   ]
  },
  {
   "cell_type": "markdown",
   "metadata": {},
   "source": [
    "# Evaluate model"
   ]
  },
  {
   "cell_type": "code",
   "execution_count": 19,
   "metadata": {},
   "outputs": [
    {
     "name": "stdout",
     "output_type": "stream",
     "text": [
      "3584/3589 [============================>.] - ETA: 0sacc: 60.74%\n"
     ]
    }
   ],
   "source": [
    "scores = model.evaluate(x_testing, y_testing)\n",
    "print('%s: %.2f%%'% (model.metrics_names[1], scores[1]*100))"
   ]
  },
  {
   "cell_type": "code",
   "execution_count": 20,
   "metadata": {},
   "outputs": [],
   "source": [
    "model.save('fer2013.h5')\n",
    "model.save_weights('fer2013_weights.h5')"
   ]
  },
  {
   "cell_type": "markdown",
   "metadata": {},
   "source": [
    "# Load trained model"
   ]
  },
  {
   "cell_type": "code",
   "execution_count": 21,
   "metadata": {},
   "outputs": [],
   "source": [
    "model.load_weights('fer2013_weights.h5')"
   ]
  },
  {
   "cell_type": "code",
   "execution_count": 86,
   "metadata": {},
   "outputs": [
    {
     "name": "stdout",
     "output_type": "stream",
     "text": [
      "3589/3589 [==============================] - 2s     \n",
      "acc: 60.74%\n"
     ]
    }
   ],
   "source": [
    "scores = model.evaluate(x_testing, y_testing)\n",
    "print('%s: %.2f%%'% (model.metrics_names[1], scores[1]*100))"
   ]
  },
  {
   "cell_type": "markdown",
   "metadata": {},
   "source": [
    "***\n",
    "# Test trained model"
   ]
  },
  {
   "cell_type": "code",
   "execution_count": 46,
   "metadata": {},
   "outputs": [
    {
     "name": "stdout",
     "output_type": "stream",
     "text": [
      "1/1 [==============================] - 0s\n"
     ]
    },
    {
     "data": {
      "image/png": "[encoded data removed]",
      "text/plain": [
       "<matplotlib.figure.Figure at 0x7fded40c0c90>"
      ]
     },
     "metadata": {},
     "output_type": "display_data"
    },
    {
     "name": "stdout",
     "output_type": "stream",
     "text": [
      "> testing image index: 2785\n",
      "> true emotion: angry\n",
      "> predicted emotion: angry\n"
     ]
    }
   ],
   "source": [
    "# 2163\n",
    "img_indx = np.uint32(np.random.rand()*(testingset.shape[0] - 1))\n",
    "sample = x_testing[img_indx, :]\n",
    "sample = sample.reshape(48, 48)\n",
    "\n",
    "pred_cls = model.predict_classes(sample.reshape(1, 48, 48, 1))\n",
    "\n",
    "plt.imshow(sample, cmap='gray')\n",
    "plt.show()\n",
    "print('> testing image index: %d\\n> true emotion: %s\\n> predicted emotion: %s' % (img_indx, get_emotion(y_testing[img_indx, :]), get_emotion(pred_cls)))"
   ]
  },
  {
   "cell_type": "markdown",
   "metadata": {},
   "source": [
    "***\n",
    "# Partial accuracy"
   ]
  },
  {
   "cell_type": "code",
   "execution_count": 84,
   "metadata": {},
   "outputs": [
    {
     "name": "stdout",
     "output_type": "stream",
     "text": [
      "> Accuracy 52.46% for <angry>\n",
      "> Accuracy 62.50% for <disgust>\n",
      "> Accuracy 46.77% for <fear>\n",
      "> Accuracy 78.88% for <happy>\n",
      "> Accuracy 44.87% for <sad>\n",
      "> Accuracy 80.00% for <surprise>\n",
      "> Accuracy 55.52% for <neutral>\n"
     ]
    }
   ],
   "source": [
    "for emo_indx in range(0, n_classes):\n",
    "    data_for_class = testingset[testingset[:, 2304 + emo_indx] == 1]\n",
    "    x_data = data_for_class[:, 0:2304]\n",
    "    x_data = x_data.reshape(x_data.shape[0], 48, 48)\n",
    "    x_data = np.expand_dims(x_data, axis=4)\n",
    "\n",
    "    y_data = data_for_class[:, 2304:2304 + n_classes]\n",
    "\n",
    "    scores = model.evaluate(x_data, y_data, batch_size=32, verbose=0)\n",
    "    print('> Accuracy %.2f%% for <%s>'% (scores[1]*100, get_emotion(np.array([emo_indx]))))"
   ]
  }
 ],
 "metadata": {
  "anaconda-cloud": {},
  "kernelspec": {
   "display_name": "Python 2",
   "language": "python",
   "name": "python2"
  },
  "language_info": {
   "codemirror_mode": {
    "name": "ipython",
    "version": 2
   },
   "file_extension": ".py",
   "mimetype": "text/x-python",
   "name": "python",
   "nbconvert_exporter": "python",
   "pygments_lexer": "ipython2",
   "version": "2.7.13"
  }
 },
 "nbformat": 4,
 "nbformat_minor": 1
}
